{
 "cells": [
  {
   "cell_type": "code",
   "execution_count": 1,
   "metadata": {},
   "outputs": [
    {
     "name": "stdout",
     "output_type": "stream",
     "text": [
      "Collecting pycryptodome\n",
      "  Downloading pycryptodome-3.22.0-cp37-abi3-win_amd64.whl.metadata (3.4 kB)\n",
      "Downloading pycryptodome-3.22.0-cp37-abi3-win_amd64.whl (1.8 MB)\n",
      "   ---------------------------------------- 0.0/1.8 MB ? eta -:--:--\n",
      "   ----------- ---------------------------- 0.5/1.8 MB 4.2 MB/s eta 0:00:01\n",
      "   ----------------------------------- ---- 1.6/1.8 MB 7.0 MB/s eta 0:00:01\n",
      "   ---------------------------------------- 1.8/1.8 MB 3.8 MB/s eta 0:00:00\n",
      "Installing collected packages: pycryptodome\n",
      "Successfully installed pycryptodome-3.22.0\n"
     ]
    },
    {
     "name": "stderr",
     "output_type": "stream",
     "text": [
      "\n",
      "[notice] A new release of pip is available: 24.3.1 -> 25.0.1\n",
      "[notice] To update, run: python.exe -m pip install --upgrade pip\n"
     ]
    }
   ],
   "source": [
    "!pip install pycryptodome"
   ]
  },
  {
   "cell_type": "code",
   "execution_count": null,
   "metadata": {},
   "outputs": [],
   "source": [
    "import json\n",
    "import uuid\n",
    "import base64\n",
    "import requests\n",
    "from datetime import datetime, date\n",
    "\n",
    "from Crypto.Hash import SHA256\n",
    "from Crypto.PublicKey import RSA\n",
    "from Crypto.Signature import PKCS1_v1_5\n",
    "\n",
    "\n",
    "class CbsApiComponent:\n",
    "\n",
    "    def __init__(self):\n",
    "        secret_key = r'C:\\Users\\KBL\\Desktop\\LetterAction_Bot1\\kbl-letter-action\\rpa\\PrivateKey_20250306124027.pem'\n",
    "        self.pem_file = secret_key\n",
    "        self.pvtkey = self._read_private_key()\n",
    "        \n",
    "    def _read_private_key(self):\n",
    "        with open(self.pem_file, 'rb') as file:\n",
    "            return file.read()\n",
    "\n",
    "    def _create_signature(self, reqModel):\n",
    "        TimeStamp = datetime.now().strftime(\"%Y-%m-%dT%H:%M:%S.%f\")[:23]\n",
    "        signatureModel = {\n",
    "            \"Model\": reqModel,\n",
    "            \"TimeStamp\": TimeStamp\n",
    "        } \n",
    "\n",
    "        signaturebytes = json.dumps(signatureModel, seperators=(\",\",\":\")).encode(\"utf-8\")\n",
    "        privateRSAkey = RSA.importKey(self.pvtkey)\n",
    "        signer = PKCS1_v1_5.new(privateRSAkey)\n",
    "        digest = SHA256.new()\n",
    "        digest.update(signaturebytes)\n",
    "        return base64.b64encode(signer.sign(digest)).decode(\"utf-8\"), TimeStamp\n",
    "    \n",
    "\n",
    "    def _create_request_data(sle, request_model, signature, TimeStamp, function):\n",
    "        request_byte = json.dumps(request_model, seperators=(\",\", \":\")).encode(\"utf-8\")\n",
    "        return {\n",
    "            \"FunctioName\": function,\n",
    "            \"Data\": base64.b64encode(request_byte).decode('utf-8'),\n",
    "            \"Signature\": signature,\n",
    "            \"TimeStamp\": TimeStamp,\n",
    "        }\n",
    "    \n",
    "\n",
    "    def _send_request(self, request_data):\n",
    "        request_data_json = json.dumps(request_data)\n",
    "        client = requests.Session()\n",
    "\n",
    "        username = 'kblrpa'\n",
    "        password = 'KblRpa@123'\n",
    "\n",
    "        url = \"http://\"\n",
    "        client.auth = (username, password)\n",
    "        headers = {\"Content-Type\": \"application/json\", \"Accept\": \"application/json\"}\n",
    "        response = client.post(url, headers=headers, data=request_data_json)\n",
    "        return response, request_data_json"
   ]
  },
  {
   "cell_type": "code",
   "execution_count": null,
   "metadata": {},
   "outputs": [],
   "source": []
  }
 ],
 "metadata": {
  "kernelspec": {
   "display_name": "Python 3",
   "language": "python",
   "name": "python3"
  },
  "language_info": {
   "codemirror_mode": {
    "name": "ipython",
    "version": 3
   },
   "file_extension": ".py",
   "mimetype": "text/x-python",
   "name": "python",
   "nbconvert_exporter": "python",
   "pygments_lexer": "ipython3",
   "version": "3.12.9"
  }
 },
 "nbformat": 4,
 "nbformat_minor": 2
}
