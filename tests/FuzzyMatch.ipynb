{
 "cells": [
  {
   "cell_type": "code",
   "execution_count": 17,
   "id": "ed55548e",
   "metadata": {},
   "outputs": [],
   "source": [
    "import pandas as pd\n",
    "import numpy as np\n",
    "import os\n",
    "import nepali_datetime\n",
    "from datetime import datetime, timedelta"
   ]
  },
  {
   "cell_type": "code",
   "execution_count": 2,
   "id": "613b2010",
   "metadata": {},
   "outputs": [],
   "source": [
    "from rapidfuzz import fuzz, process, utils\n",
    "\n",
    "def preprocess_text(text: str) -> str:\n",
    "    try:\n",
    "        return utils.default_process(str(text).replace(' ', ''))\n",
    "    except Exception as e:\n",
    "        print(f\"Error preprocessing text: {e}\")\n",
    "        return \"\"\n",
    "    "
   ]
  },
  {
   "cell_type": "code",
   "execution_count": 3,
   "id": "f08ecdfd",
   "metadata": {},
   "outputs": [
    {
     "data": {
      "text/plain": [
       "'kshitizpoudel'"
      ]
     },
     "execution_count": 3,
     "metadata": {},
     "output_type": "execute_result"
    }
   ],
   "source": [
    "preprocess_text(\"Kshitiz  Poudel!\")"
   ]
  },
  {
   "cell_type": "code",
   "execution_count": 4,
   "id": "b2db3ce8",
   "metadata": {},
   "outputs": [],
   "source": [
    "def calculate_text_similarity(text1: str, text2: str) -> float:\n",
    "    try:\n",
    "        text1 = preprocess_text(text1)\n",
    "        text2 = preprocess_text(text2)\n",
    "\n",
    "        if not text1 or not text2:\n",
    "            return 0.0\n",
    "        \n",
    "        return fuzz.ratio(text1, text2) / 100.0\n",
    "    except Exception as e:\n",
    "        print(f\"Error calculating text similarity: {e}\")\n",
    "        return 0.0"
   ]
  },
  {
   "cell_type": "code",
   "execution_count": 5,
   "id": "1db130a3",
   "metadata": {},
   "outputs": [
    {
     "data": {
      "text/plain": [
       "0.7333333333333334"
      ]
     },
     "execution_count": 5,
     "metadata": {},
     "output_type": "execute_result"
    }
   ],
   "source": [
    "calculate_text_similarity(\"Ram B Shrestha!\", \"Ram Bahadur Chrestha\")"
   ]
  },
  {
   "cell_type": "code",
   "execution_count": 6,
   "id": "f2de1526",
   "metadata": {},
   "outputs": [
    {
     "data": {
      "text/plain": [
       "0.4666666666666666"
      ]
     },
     "execution_count": 6,
     "metadata": {},
     "output_type": "execute_result"
    }
   ],
   "source": [
    "calculate_text_similarity(\"Shrestha Ram B!\", \"Ram Bahadur Chrestha\")"
   ]
  },
  {
   "cell_type": "code",
   "execution_count": 7,
   "id": "586626f6",
   "metadata": {},
   "outputs": [],
   "source": [
    "def preprocess_dataframe_column(series: pd.Series) -> pd.Series:\n",
    "    \"\"\"Vectorized preprocessing of a DataFrame column.\"\"\"\n",
    "    if series.empty:\n",
    "        return series\n",
    "    return series.fillna(\"\").astype(str).apply(preprocess_text)\n"
   ]
  },
  {
   "cell_type": "code",
   "execution_count": 8,
   "id": "0f797038",
   "metadata": {},
   "outputs": [],
   "source": [
    "def calculate_batch_text_similarity( series: pd.Series, query_value: str) -> pd.Series:\n",
    "    \"\"\"Calculate similarity between a series of values and a query value in a vectorized manner.\"\"\" \n",
    "    try:\n",
    "        processed_query = (query_value)\n",
    "        if not processed_query:\n",
    "            return pd.Series(0.0, index=series.index)\n",
    "            \n",
    "        processed_series = preprocess_dataframe_column(series)            \n",
    "        similarities = process.cdist(\n",
    "            processed_series, \n",
    "            [processed_query], \n",
    "            scorer=fuzz.ratio, \n",
    "            dtype=np.uint8,  \n",
    "            workers=max(1, os.cpu_count() // 2)\n",
    "        )\n",
    "        return pd.Series(similarities.flatten() / 100.0, index=series.index)\n",
    "        \n",
    "    except Exception as e:\n",
    "        print(f\"Error in batch text similarity calculation: {e}\")\n",
    "        return pd.Series(0.0, index=series.index)"
   ]
  },
  {
   "cell_type": "code",
   "execution_count": 9,
   "id": "0121583e",
   "metadata": {},
   "outputs": [
    {
     "data": {
      "text/plain": [
       "0    0.56\n",
       "1    0.44\n",
       "dtype: float64"
      ]
     },
     "execution_count": 9,
     "metadata": {},
     "output_type": "execute_result"
    }
   ],
   "source": [
    "calculate_batch_text_similarity(pd.Series([\"Ram B Shrestha!\", \"Shrestha Ram B!\"]), \"Ram Bahadur Chrestha\")"
   ]
  },
  {
   "cell_type": "code",
   "execution_count": null,
   "id": "4641e182",
   "metadata": {},
   "outputs": [],
   "source": [
    "def standardize_date_format(date_obj, format=\"%Y-%m-%d\"):\n",
    "    \"\"\"\n",
    "    Convert any date object to a standard string format for easy comparison.\n",
    "    \n",
    "    Args:\n",
    "        date_obj: Either a datetime.date object, string date, or BS date string\n",
    "        format: The output format string (default: YYYY-MM-DD)\n",
    "        \n",
    "    Returns:\n",
    "        A formatted date string or None if conversion fails\n",
    "    \"\"\"\n",
    "    if not date_obj:\n",
    "        return None\n",
    "    \n",
    "    date_formats = [\n",
    "        \"%Y-%m-%d %H:%M:%S\",  # Format: 1949-06-16 00:00:00\n",
    "        \"%Y-%m-%d\",           # Format: 1949-06-16\n",
    "        \"%d/%m/%Y\",           # Format: 16/06/1949\n",
    "        \"%m/%d/%Y\",           # Format: 06/16/1949\n",
    "        \"%Y/%m/%d\",           # Format: 1949/06/16\n",
    "        \"%Y%m%d\",             # Format: 19490616\n",
    "        \"%d-%m-%Y\",           # Format: 16-06-1949\n",
    "        \"%m-%d-%Y\",           # Format: 06-16-1949\n",
    "        \"%b %d, %Y\",          # Format: Jun 16, 1949\n",
    "        \"%d %b %Y\",           # Format: 16 Jun 1949\n",
    "        \"%B %d, %Y\",          # Format: June 16, 1949\n",
    "        \"%d %B %Y\",           # Format: 16 June 1949\n",
    "        \"%Y.%m.%d\",           # Format: 1949.06.16\n",
    "        \"%d.%m.%Y\",           # Format: 16.06.1949\n",
    "        \"%m.%d.%Y\",           # Format: 06.16.1949\n",
    "        \"%Y/%m/%d %H:%M:%S\",  # Format: 1949/06/16 00:00:00\n",
    "        \"%d-%b-%Y\",           # Format: 16-Jun-1949\n",
    "        \"%d-%B-%Y\",           # Format: 16-June-1949\n",
    "        \"%Y-%b-%d\",           # Format: 1949-Jun-16\n",
    "        \"%Y-%B-%d\"            # Format: 1949-June-16\n",
    "    ]\n",
    "    \n",
    "    for date_format in date_formats:\n",
    "        try:\n",
    "            date_obj = datetime.strptime(str(date_obj), date_format)\n",
    "            return date_obj.strftime(\"%Y%m%d\")\n",
    "        except (ValueError, TypeError):\n",
    "            continue\n",
    "    \n",
    "    return None\n"
   ]
  },
  {
   "cell_type": "code",
   "execution_count": 33,
   "id": "418d963b",
   "metadata": {},
   "outputs": [
    {
     "name": "stdout",
     "output_type": "stream",
     "text": [
      "19490716\n"
     ]
    }
   ],
   "source": [
    "result = standardize_date_format(\"Jul 16, 1949\")\n",
    "print(result)"
   ]
  },
  {
   "cell_type": "code",
   "execution_count": null,
   "id": "40138dd9",
   "metadata": {},
   "outputs": [],
   "source": []
  }
 ],
 "metadata": {
  "kernelspec": {
   "display_name": "venv",
   "language": "python",
   "name": "python3"
  },
  "language_info": {
   "codemirror_mode": {
    "name": "ipython",
    "version": 3
   },
   "file_extension": ".py",
   "mimetype": "text/x-python",
   "name": "python",
   "nbconvert_exporter": "python",
   "pygments_lexer": "ipython3",
   "version": "3.13.5"
  }
 },
 "nbformat": 4,
 "nbformat_minor": 5
}
